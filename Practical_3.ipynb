{
 "cells": [
  {
   "cell_type": "code",
   "execution_count": 1,
   "id": "6c1e6e68-64de-4e7f-8e2a-ad647c79190b",
   "metadata": {},
   "outputs": [],
   "source": [
    "import pandas as pd\n",
    "import numpy as np"
   ]
  },
  {
   "cell_type": "code",
   "execution_count": 3,
   "id": "58cb0c46-6579-44cb-b310-9b00aa476626",
   "metadata": {},
   "outputs": [],
   "source": [
    "df = pd.read_csv('salary.csv')"
   ]
  },
  {
   "cell_type": "code",
   "execution_count": 5,
   "id": "b56b6aac-26d5-4ac4-aed5-c6eb5a4ddb46",
   "metadata": {},
   "outputs": [
    {
     "data": {
      "text/html": [
       "<div>\n",
       "<style scoped>\n",
       "    .dataframe tbody tr th:only-of-type {\n",
       "        vertical-align: middle;\n",
       "    }\n",
       "\n",
       "    .dataframe tbody tr th {\n",
       "        vertical-align: top;\n",
       "    }\n",
       "\n",
       "    .dataframe thead th {\n",
       "        text-align: right;\n",
       "    }\n",
       "</style>\n",
       "<table border=\"1\" class=\"dataframe\">\n",
       "  <thead>\n",
       "    <tr style=\"text-align: right;\">\n",
       "      <th></th>\n",
       "      <th>Age</th>\n",
       "      <th>Gender</th>\n",
       "      <th>Education Level</th>\n",
       "      <th>Job Title</th>\n",
       "      <th>Years of Experience</th>\n",
       "      <th>Salary</th>\n",
       "    </tr>\n",
       "  </thead>\n",
       "  <tbody>\n",
       "    <tr>\n",
       "      <th>0</th>\n",
       "      <td>43</td>\n",
       "      <td>Other</td>\n",
       "      <td>PhD</td>\n",
       "      <td>Data Analyst</td>\n",
       "      <td>2</td>\n",
       "      <td>78913</td>\n",
       "    </tr>\n",
       "    <tr>\n",
       "      <th>1</th>\n",
       "      <td>23</td>\n",
       "      <td>Female</td>\n",
       "      <td>PhD</td>\n",
       "      <td>Biotechnologist</td>\n",
       "      <td>9</td>\n",
       "      <td>110403</td>\n",
       "    </tr>\n",
       "    <tr>\n",
       "      <th>2</th>\n",
       "      <td>25</td>\n",
       "      <td>Female</td>\n",
       "      <td>High School</td>\n",
       "      <td>Research Scientist</td>\n",
       "      <td>7</td>\n",
       "      <td>39666</td>\n",
       "    </tr>\n",
       "    <tr>\n",
       "      <th>3</th>\n",
       "      <td>32</td>\n",
       "      <td>Other</td>\n",
       "      <td>Master's</td>\n",
       "      <td>Research Scientist</td>\n",
       "      <td>3</td>\n",
       "      <td>91913</td>\n",
       "    </tr>\n",
       "    <tr>\n",
       "      <th>4</th>\n",
       "      <td>41</td>\n",
       "      <td>Male</td>\n",
       "      <td>Bachelor's</td>\n",
       "      <td>Data Analyst</td>\n",
       "      <td>26</td>\n",
       "      <td>40868</td>\n",
       "    </tr>\n",
       "    <tr>\n",
       "      <th>...</th>\n",
       "      <td>...</td>\n",
       "      <td>...</td>\n",
       "      <td>...</td>\n",
       "      <td>...</td>\n",
       "      <td>...</td>\n",
       "      <td>...</td>\n",
       "    </tr>\n",
       "    <tr>\n",
       "      <th>95</th>\n",
       "      <td>28</td>\n",
       "      <td>Other</td>\n",
       "      <td>High School</td>\n",
       "      <td>Lab Technician</td>\n",
       "      <td>19</td>\n",
       "      <td>125371</td>\n",
       "    </tr>\n",
       "    <tr>\n",
       "      <th>96</th>\n",
       "      <td>30</td>\n",
       "      <td>Female</td>\n",
       "      <td>PhD</td>\n",
       "      <td>Research Scientist</td>\n",
       "      <td>24</td>\n",
       "      <td>149805</td>\n",
       "    </tr>\n",
       "    <tr>\n",
       "      <th>97</th>\n",
       "      <td>45</td>\n",
       "      <td>Female</td>\n",
       "      <td>Master's</td>\n",
       "      <td>Quality Control Specialist</td>\n",
       "      <td>9</td>\n",
       "      <td>146587</td>\n",
       "    </tr>\n",
       "    <tr>\n",
       "      <th>98</th>\n",
       "      <td>31</td>\n",
       "      <td>Male</td>\n",
       "      <td>Master's</td>\n",
       "      <td>Research Scientist</td>\n",
       "      <td>11</td>\n",
       "      <td>49128</td>\n",
       "    </tr>\n",
       "    <tr>\n",
       "      <th>99</th>\n",
       "      <td>54</td>\n",
       "      <td>Male</td>\n",
       "      <td>PhD</td>\n",
       "      <td>Data Analyst</td>\n",
       "      <td>2</td>\n",
       "      <td>68487</td>\n",
       "    </tr>\n",
       "  </tbody>\n",
       "</table>\n",
       "<p>100 rows × 6 columns</p>\n",
       "</div>"
      ],
      "text/plain": [
       "    Age  Gender Education Level                   Job Title  \\\n",
       "0    43   Other             PhD                Data Analyst   \n",
       "1    23  Female             PhD             Biotechnologist   \n",
       "2    25  Female     High School          Research Scientist   \n",
       "3    32   Other        Master's          Research Scientist   \n",
       "4    41    Male      Bachelor's                Data Analyst   \n",
       "..  ...     ...             ...                         ...   \n",
       "95   28   Other     High School              Lab Technician   \n",
       "96   30  Female             PhD          Research Scientist   \n",
       "97   45  Female        Master's  Quality Control Specialist   \n",
       "98   31    Male        Master's          Research Scientist   \n",
       "99   54    Male             PhD                Data Analyst   \n",
       "\n",
       "    Years of Experience  Salary  \n",
       "0                     2   78913  \n",
       "1                     9  110403  \n",
       "2                     7   39666  \n",
       "3                     3   91913  \n",
       "4                    26   40868  \n",
       "..                  ...     ...  \n",
       "95                   19  125371  \n",
       "96                   24  149805  \n",
       "97                    9  146587  \n",
       "98                   11   49128  \n",
       "99                    2   68487  \n",
       "\n",
       "[100 rows x 6 columns]"
      ]
     },
     "execution_count": 5,
     "metadata": {},
     "output_type": "execute_result"
    }
   ],
   "source": [
    "df"
   ]
  },
  {
   "cell_type": "code",
   "execution_count": 7,
   "id": "7fda925f-b5a4-44e3-947d-4302ec06f860",
   "metadata": {},
   "outputs": [],
   "source": [
    "mean_values = df.mean(numeric_only=True)"
   ]
  },
  {
   "cell_type": "code",
   "execution_count": 9,
   "id": "50fba55b-f6c8-4e77-81e1-af8fff1c9dd2",
   "metadata": {},
   "outputs": [
    {
     "name": "stdout",
     "output_type": "stream",
     "text": [
      "Age                       39.75\n",
      "Years of Experience       14.97\n",
      "Salary                 93616.05\n",
      "dtype: float64\n"
     ]
    }
   ],
   "source": [
    "print(mean_values)"
   ]
  },
  {
   "cell_type": "code",
   "execution_count": 11,
   "id": "16c0754b-2b8c-4527-9755-16d8cadecfa0",
   "metadata": {},
   "outputs": [
    {
     "data": {
      "text/plain": [
       "39.75"
      ]
     },
     "execution_count": 11,
     "metadata": {},
     "output_type": "execute_result"
    }
   ],
   "source": [
    "df.loc[:,'Age'].mean()"
   ]
  },
  {
   "cell_type": "code",
   "execution_count": 13,
   "id": "33140f8e-87bc-461f-aacc-2d996657ec1a",
   "metadata": {},
   "outputs": [
    {
     "name": "stdout",
     "output_type": "stream",
     "text": [
      "Age                        40.5\n",
      "Years of Experience        15.0\n",
      "Salary                 100757.0\n",
      "dtype: float64\n"
     ]
    }
   ],
   "source": [
    " median_value =df.median(numeric_only=True)\n",
    " print(median_value)"
   ]
  },
  {
   "cell_type": "code",
   "execution_count": 19,
   "id": "58e635dc-55c2-4136-b080-314d3609599b",
   "metadata": {},
   "outputs": [
    {
     "data": {
      "text/plain": [
       "40.5"
      ]
     },
     "execution_count": 19,
     "metadata": {},
     "output_type": "execute_result"
    }
   ],
   "source": [
    " df.loc[:,'Age'].median()"
   ]
  },
  {
   "cell_type": "code",
   "execution_count": 21,
   "id": "7ec6b530-2ea8-4268-8c32-6b5da56d0817",
   "metadata": {},
   "outputs": [
    {
     "name": "stdout",
     "output_type": "stream",
     "text": [
      "Age                       43.0\n",
      "Years of Experience        9.0\n",
      "Salary                 31887.0\n",
      "Name: 0, dtype: float64\n"
     ]
    }
   ],
   "source": [
    "mode_value= df.mode(numeric_only=True).iloc[0]\n",
    "print(mode_value)"
   ]
  },
  {
   "cell_type": "code",
   "execution_count": 23,
   "id": "272d6f08-137b-491d-b88e-24660d71493f",
   "metadata": {},
   "outputs": [
    {
     "data": {
      "text/plain": [
       "0    43\n",
       "Name: Age, dtype: int64"
      ]
     },
     "execution_count": 23,
     "metadata": {},
     "output_type": "execute_result"
    }
   ],
   "source": [
    "df.loc[:,'Age'].mode()"
   ]
  },
  {
   "cell_type": "code",
   "execution_count": 25,
   "id": "a418f5be-0460-4b35-9e06-deae2da41f88",
   "metadata": {},
   "outputs": [
    {
     "data": {
      "text/plain": [
       "Age                                 22\n",
       "Gender                          Female\n",
       "Education Level             Bachelor's\n",
       "Job Title              Biotechnologist\n",
       "Years of Experience                  0\n",
       "Salary                           31887\n",
       "dtype: object"
      ]
     },
     "execution_count": 25,
     "metadata": {},
     "output_type": "execute_result"
    }
   ],
   "source": [
    "df.min()"
   ]
  },
  {
   "cell_type": "code",
   "execution_count": 27,
   "id": "7231fae4-8ff1-47e3-91b7-02418ea5e9fd",
   "metadata": {},
   "outputs": [
    {
     "data": {
      "text/plain": [
       "22"
      ]
     },
     "execution_count": 27,
     "metadata": {},
     "output_type": "execute_result"
    }
   ],
   "source": [
    "df.loc[:,'Age'].min(skipna = False)"
   ]
  },
  {
   "cell_type": "code",
   "execution_count": 29,
   "id": "fc47fdfe-f2b9-4891-8e12-0021903bff79",
   "metadata": {},
   "outputs": [
    {
     "data": {
      "text/plain": [
       "Age                                    60\n",
       "Gender                              Other\n",
       "Education Level                       PhD\n",
       "Job Title              Research Scientist\n",
       "Years of Experience                    30\n",
       "Salary                             149963\n",
       "dtype: object"
      ]
     },
     "execution_count": 29,
     "metadata": {},
     "output_type": "execute_result"
    }
   ],
   "source": [
    "df.max()"
   ]
  },
  {
   "cell_type": "code",
   "execution_count": 31,
   "id": "515c7c33-2a11-4674-aba8-ab075fd799df",
   "metadata": {},
   "outputs": [
    {
     "data": {
      "text/plain": [
       "60"
      ]
     },
     "execution_count": 31,
     "metadata": {},
     "output_type": "execute_result"
    }
   ],
   "source": [
    "df.loc[:,'Age'].max(skipna = False)"
   ]
  },
  {
   "cell_type": "code",
   "execution_count": 33,
   "id": "d4f1705d-591d-46dd-9dd8-862a5a3dba68",
   "metadata": {},
   "outputs": [
    {
     "name": "stdout",
     "output_type": "stream",
     "text": [
      "Age                       11.428632\n",
      "Years of Experience        8.678843\n",
      "Salary                 35796.187433\n",
      "dtype: float64\n"
     ]
    }
   ],
   "source": [
    "std_values = df.std(numeric_only=True)\n",
    "print(std_values)"
   ]
  },
  {
   "cell_type": "code",
   "execution_count": 35,
   "id": "19b1845e-26d0-4ec9-893d-925c5b32cd56",
   "metadata": {},
   "outputs": [
    {
     "data": {
      "text/plain": [
       "11.428632305032671"
      ]
     },
     "execution_count": 35,
     "metadata": {},
     "output_type": "execute_result"
    }
   ],
   "source": [
    "df.loc[:,'Age'].std()"
   ]
  },
  {
   "cell_type": "code",
   "execution_count": 37,
   "id": "ea413c60-14be-4b1d-a039-eb993727d97e",
   "metadata": {},
   "outputs": [
    {
     "data": {
      "text/plain": [
       "Gender\n",
       "Female    36.296296\n",
       "Male      41.941176\n",
       "Other     40.230769\n",
       "Name: Age, dtype: float64"
      ]
     },
     "execution_count": 37,
     "metadata": {},
     "output_type": "execute_result"
    }
   ],
   "source": [
    "df.groupby(['Gender'])['Age'].mean()"
   ]
  },
  {
   "cell_type": "code",
   "execution_count": 39,
   "id": "4757a552-379c-41ae-a779-5f679b4aa892",
   "metadata": {},
   "outputs": [
    {
     "data": {
      "text/html": [
       "<div>\n",
       "<style scoped>\n",
       "    .dataframe tbody tr th:only-of-type {\n",
       "        vertical-align: middle;\n",
       "    }\n",
       "\n",
       "    .dataframe tbody tr th {\n",
       "        vertical-align: top;\n",
       "    }\n",
       "\n",
       "    .dataframe thead th {\n",
       "        text-align: right;\n",
       "    }\n",
       "</style>\n",
       "<table border=\"1\" class=\"dataframe\">\n",
       "  <thead>\n",
       "    <tr style=\"text-align: right;\">\n",
       "      <th></th>\n",
       "      <th>0</th>\n",
       "      <th>1</th>\n",
       "      <th>2</th>\n",
       "    </tr>\n",
       "  </thead>\n",
       "  <tbody>\n",
       "    <tr>\n",
       "      <th>0</th>\n",
       "      <td>0.0</td>\n",
       "      <td>0.0</td>\n",
       "      <td>1.0</td>\n",
       "    </tr>\n",
       "    <tr>\n",
       "      <th>1</th>\n",
       "      <td>1.0</td>\n",
       "      <td>0.0</td>\n",
       "      <td>0.0</td>\n",
       "    </tr>\n",
       "    <tr>\n",
       "      <th>2</th>\n",
       "      <td>1.0</td>\n",
       "      <td>0.0</td>\n",
       "      <td>0.0</td>\n",
       "    </tr>\n",
       "    <tr>\n",
       "      <th>3</th>\n",
       "      <td>0.0</td>\n",
       "      <td>0.0</td>\n",
       "      <td>1.0</td>\n",
       "    </tr>\n",
       "    <tr>\n",
       "      <th>4</th>\n",
       "      <td>0.0</td>\n",
       "      <td>1.0</td>\n",
       "      <td>0.0</td>\n",
       "    </tr>\n",
       "    <tr>\n",
       "      <th>...</th>\n",
       "      <td>...</td>\n",
       "      <td>...</td>\n",
       "      <td>...</td>\n",
       "    </tr>\n",
       "    <tr>\n",
       "      <th>95</th>\n",
       "      <td>0.0</td>\n",
       "      <td>0.0</td>\n",
       "      <td>1.0</td>\n",
       "    </tr>\n",
       "    <tr>\n",
       "      <th>96</th>\n",
       "      <td>1.0</td>\n",
       "      <td>0.0</td>\n",
       "      <td>0.0</td>\n",
       "    </tr>\n",
       "    <tr>\n",
       "      <th>97</th>\n",
       "      <td>1.0</td>\n",
       "      <td>0.0</td>\n",
       "      <td>0.0</td>\n",
       "    </tr>\n",
       "    <tr>\n",
       "      <th>98</th>\n",
       "      <td>0.0</td>\n",
       "      <td>1.0</td>\n",
       "      <td>0.0</td>\n",
       "    </tr>\n",
       "    <tr>\n",
       "      <th>99</th>\n",
       "      <td>0.0</td>\n",
       "      <td>1.0</td>\n",
       "      <td>0.0</td>\n",
       "    </tr>\n",
       "  </tbody>\n",
       "</table>\n",
       "<p>100 rows × 3 columns</p>\n",
       "</div>"
      ],
      "text/plain": [
       "      0    1    2\n",
       "0   0.0  0.0  1.0\n",
       "1   1.0  0.0  0.0\n",
       "2   1.0  0.0  0.0\n",
       "3   0.0  0.0  1.0\n",
       "4   0.0  1.0  0.0\n",
       "..  ...  ...  ...\n",
       "95  0.0  0.0  1.0\n",
       "96  1.0  0.0  0.0\n",
       "97  1.0  0.0  0.0\n",
       "98  0.0  1.0  0.0\n",
       "99  0.0  1.0  0.0\n",
       "\n",
       "[100 rows x 3 columns]"
      ]
     },
     "execution_count": 39,
     "metadata": {},
     "output_type": "execute_result"
    }
   ],
   "source": [
    "from sklearn import preprocessing\n",
    "enc = preprocessing.OneHotEncoder()\n",
    "enc_df = pd.DataFrame(enc.fit_transform(df[['Gender']]).toarray())\n",
    "enc_df"
   ]
  },
  {
   "cell_type": "code",
   "execution_count": 41,
   "id": "19326e4b-f0e6-4bd8-ae58-638928b9bad1",
   "metadata": {},
   "outputs": [
    {
     "name": "stdout",
     "output_type": "stream",
     "text": [
      "Gender\n",
      "Female    98657.666667\n",
      "Male      91067.970588\n",
      "Other     92347.102564\n",
      "Name: Salary, dtype: float64\n"
     ]
    }
   ],
   "source": [
    "df_u= df.rename(columns={'Salary)':'Income'},inplace=False)\n",
    "print(df_u.groupby('Gender')['Salary'].mean())"
   ]
  },
  {
   "cell_type": "code",
   "execution_count": 43,
   "id": "7644dfe3-bc19-4476-abf7-37ff34bb6391",
   "metadata": {},
   "outputs": [
    {
     "name": "stdout",
     "output_type": "stream",
     "text": [
      "    Age  Gender Education Level                   Job Title  \\\n",
      "0    43   Other             PhD                Data Analyst   \n",
      "1    23  Female             PhD             Biotechnologist   \n",
      "2    25  Female     High School          Research Scientist   \n",
      "3    32   Other        Master's          Research Scientist   \n",
      "4    41    Male      Bachelor's                Data Analyst   \n",
      "..  ...     ...             ...                         ...   \n",
      "95   28   Other     High School              Lab Technician   \n",
      "96   30  Female             PhD          Research Scientist   \n",
      "97   45  Female        Master's  Quality Control Specialist   \n",
      "98   31    Male        Master's          Research Scientist   \n",
      "99   54    Male             PhD                Data Analyst   \n",
      "\n",
      "    Years of Experience  Salary    0    1    2  \n",
      "0                     2   78913  0.0  0.0  1.0  \n",
      "1                     9  110403  1.0  0.0  0.0  \n",
      "2                     7   39666  1.0  0.0  0.0  \n",
      "3                     3   91913  0.0  0.0  1.0  \n",
      "4                    26   40868  0.0  1.0  0.0  \n",
      "..                  ...     ...  ...  ...  ...  \n",
      "95                   19  125371  0.0  0.0  1.0  \n",
      "96                   24  149805  1.0  0.0  0.0  \n",
      "97                    9  146587  1.0  0.0  0.0  \n",
      "98                   11   49128  0.0  1.0  0.0  \n",
      "99                    2   68487  0.0  1.0  0.0  \n",
      "\n",
      "[100 rows x 9 columns]\n"
     ]
    }
   ],
   "source": [
    "df_encode =df_u.join(enc_df)\n",
    "print(df_encode)"
   ]
  },
  {
   "cell_type": "code",
   "execution_count": 57,
   "id": "a86353a0-0a8d-47f3-9292-9f12a70fa695",
   "metadata": {},
   "outputs": [
    {
     "name": "stdout",
     "output_type": "stream",
     "text": [
      "Skewnessof numericalcolumns:\n",
      "Age                    0.084161\n",
      "Years of Experience    0.101069\n",
      "Salary                -0.190685\n",
      "0                      1.051977\n",
      "1                      0.685851\n",
      "2                      0.457949\n",
      "dtype: float64\n"
     ]
    }
   ],
   "source": [
    "import pandas as pd\n",
    "skewness= df_encode.select_dtypes(include=['number']).skew()\n",
    "print(\"Skewnessof numericalcolumns:\")\n",
    "print(skewness)"
   ]
  },
  {
   "cell_type": "code",
   "execution_count": 59,
   "id": "adae813a-aed0-40a9-82da-3eae16a51b62",
   "metadata": {},
   "outputs": [],
   "source": [
    "import numpy as np\n",
    "from scipy import stats"
   ]
  },
  {
   "cell_type": "code",
   "execution_count": 61,
   "id": "51634ffe-1ecb-49a1-9ced-3bdad92bd01f",
   "metadata": {},
   "outputs": [],
   "source": [
    "z =np.abs(stats.zscore(df['Salary']))"
   ]
  },
  {
   "cell_type": "code",
   "execution_count": 77,
   "id": "bf7828d6-299b-44b4-bffd-e50726acf52a",
   "metadata": {},
   "outputs": [
    {
     "data": {
      "text/plain": [
       "0     0.412813\n",
       "1     0.471322\n",
       "2     1.514738\n",
       "3     0.047816\n",
       "4     1.480990\n",
       "        ...   \n",
       "95    0.891573\n",
       "96    1.577599\n",
       "97    1.487248\n",
       "98    1.249076\n",
       "99    0.705540\n",
       "Name: Salary, Length: 100, dtype: float64"
      ]
     },
     "execution_count": 77,
     "metadata": {},
     "output_type": "execute_result"
    }
   ],
   "source": [
    "z"
   ]
  },
  {
   "cell_type": "code",
   "execution_count": 81,
   "id": "b36c87ad-acc8-4e81-9c08-32e6d09ebd5a",
   "metadata": {},
   "outputs": [
    {
     "data": {
      "image/png": "[encoded data removed]",
      "text/plain": [
       "<Figure size 640x480 with 1 Axes>"
      ]
     },
     "metadata": {},
     "output_type": "display_data"
    }
   ],
   "source": [
    "import matplotlib.pyplot as plt\n",
    "\n",
    "new_df = df.copy()\n",
    "new_df['Salary'].plot(kind='hist', bins=20, edgecolor='black')\n",
    "plt.xlabel('Salary')\n",
    "plt.ylabel('Frequency')\n",
    "plt.title('Salary Distribution')\n",
    "plt.show()\n"
   ]
  },
  {
   "cell_type": "code",
   "execution_count": null,
   "id": "0af047d6-a44d-4bad-883d-a941d4b3fc43",
   "metadata": {},
   "outputs": [],
   "source": [
    "df['log_math'].plot(kind='hist', bins=20, edgecolor='black', color='skyblue')\n",
    " plt.xlabel('Log10(Salary)')\n",
    " plt.ylabel('Frequency')\n",
    " plt.title('Log-Transformed Salary Distribution')\n",
    " plt.show()"
   ]
  }
 ],
 "metadata": {
  "kernelspec": {
   "display_name": "Python [conda env:base] *",
   "language": "python",
   "name": "conda-base-py"
  },
  "language_info": {
   "codemirror_mode": {
    "name": "ipython",
    "version": 3
   },
   "file_extension": ".py",
   "mimetype": "text/x-python",
   "name": "python",
   "nbconvert_exporter": "python",
   "pygments_lexer": "ipython3",
   "version": "3.12.7"
  }
 },
 "nbformat": 4,
 "nbformat_minor": 5
}
